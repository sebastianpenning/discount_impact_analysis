{
 "cells": [
  {
   "cell_type": "markdown",
   "id": "1a068603",
   "metadata": {},
   "source": [
    "# Discount Analysis - Python"
   ]
  },
  {
   "cell_type": "markdown",
   "id": "07785bfb",
   "metadata": {},
   "source": [
    "This Jupyter Notebook holds the code and explanation for all the steps undertaken to prepare the data in this project for data visualization"
   ]
  },
  {
   "cell_type": "markdown",
   "id": "a3755166",
   "metadata": {},
   "source": [
    "\n",
    "\n"
   ]
  },
  {
   "cell_type": "markdown",
   "id": "eeb93533",
   "metadata": {},
   "source": [
    "# Table of Contents"
   ]
  },
  {
   "cell_type": "markdown",
   "id": "67b0bd7d",
   "metadata": {},
   "source": [
    "1. Load Data\n",
    "2. Clean Data\n",
    "3. Reformating\n",
    "4. Evaluate Results"
   ]
  },
  {
   "cell_type": "markdown",
   "id": "4052b21f",
   "metadata": {},
   "source": [
    "# 1 Load Data"
   ]
  },
  {
   "cell_type": "markdown",
   "id": "efdc7853",
   "metadata": {},
   "source": []
  },
  {
   "cell_type": "markdown",
   "id": "196279f1",
   "metadata": {},
   "source": [
    "# 2 Clean Data"
   ]
  },
  {
   "cell_type": "code",
   "execution_count": null,
   "id": "cf668bed",
   "metadata": {},
   "outputs": [],
   "source": []
  },
  {
   "cell_type": "markdown",
   "id": "744a3760",
   "metadata": {},
   "source": [
    "# 3 Reformating "
   ]
  },
  {
   "cell_type": "code",
   "execution_count": null,
   "id": "6f9c6c22",
   "metadata": {},
   "outputs": [],
   "source": []
  },
  {
   "cell_type": "markdown",
   "id": "f1fd656f",
   "metadata": {},
   "source": [
    "# 4 Evaluate Results"
   ]
  },
  {
   "cell_type": "code",
   "execution_count": null,
   "id": "e9c7e7e4",
   "metadata": {},
   "outputs": [],
   "source": []
  }
 ],
 "metadata": {
  "kernelspec": {
   "display_name": "Python 3 (ipykernel)",
   "language": "python",
   "name": "python3"
  },
  "language_info": {
   "codemirror_mode": {
    "name": "ipython",
    "version": 3
   },
   "file_extension": ".py",
   "mimetype": "text/x-python",
   "name": "python",
   "nbconvert_exporter": "python",
   "pygments_lexer": "ipython3",
   "version": "3.9.12"
  }
 },
 "nbformat": 4,
 "nbformat_minor": 5
}
